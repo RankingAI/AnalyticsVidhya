{
 "cells": [
  {
   "cell_type": "code",
   "execution_count": 2,
   "metadata": {
    "collapsed": false
   },
   "outputs": [],
   "source": [
    "import pandas as pd\n",
    "import numpy as np\n",
    "import matplotlib.pyplot as plt\n",
    "import seaborn as sns\n",
    "color = sns.color_palette()\n",
    "\n",
    "InputDir = '/Users/yuanpingzhou/project/workspace/python/AnalyticsVidhya/BigMartSales3rd/data'\n",
    "\n",
    "TrainFile = '%s/train.csv' % InputDir\n",
    "TestFile = '%s/test.csv' % InputDir\n",
    "TrainData = pd.read_csv(TrainFile)\n",
    "TestData = pd.read_csv(TestFile)"
   ]
  },
  {
   "cell_type": "code",
   "execution_count": 3,
   "metadata": {
    "collapsed": false
   },
   "outputs": [
    {
     "data": {
      "text/html": [
       "<div>\n",
       "<table border=\"1\" class=\"dataframe\">\n",
       "  <thead>\n",
       "    <tr style=\"text-align: right;\">\n",
       "      <th></th>\n",
       "      <th>Item_Identifier</th>\n",
       "      <th>Item_Weight</th>\n",
       "      <th>Item_Fat_Content</th>\n",
       "      <th>Item_Visibility</th>\n",
       "      <th>Item_Type</th>\n",
       "      <th>Item_MRP</th>\n",
       "      <th>Outlet_Identifier</th>\n",
       "      <th>Outlet_Establishment_Year</th>\n",
       "      <th>Outlet_Size</th>\n",
       "      <th>Outlet_Location_Type</th>\n",
       "      <th>Outlet_Type</th>\n",
       "      <th>Item_Outlet_Sales</th>\n",
       "    </tr>\n",
       "  </thead>\n",
       "  <tbody>\n",
       "    <tr>\n",
       "      <th>0</th>\n",
       "      <td>FDA15</td>\n",
       "      <td>9.30</td>\n",
       "      <td>Low Fat</td>\n",
       "      <td>0.016047</td>\n",
       "      <td>Dairy</td>\n",
       "      <td>249.8092</td>\n",
       "      <td>OUT049</td>\n",
       "      <td>1999</td>\n",
       "      <td>Medium</td>\n",
       "      <td>Tier 1</td>\n",
       "      <td>Supermarket Type1</td>\n",
       "      <td>3735.1380</td>\n",
       "    </tr>\n",
       "    <tr>\n",
       "      <th>1</th>\n",
       "      <td>DRC01</td>\n",
       "      <td>5.92</td>\n",
       "      <td>Regular</td>\n",
       "      <td>0.019278</td>\n",
       "      <td>Soft Drinks</td>\n",
       "      <td>48.2692</td>\n",
       "      <td>OUT018</td>\n",
       "      <td>2009</td>\n",
       "      <td>Medium</td>\n",
       "      <td>Tier 3</td>\n",
       "      <td>Supermarket Type2</td>\n",
       "      <td>443.4228</td>\n",
       "    </tr>\n",
       "    <tr>\n",
       "      <th>2</th>\n",
       "      <td>FDN15</td>\n",
       "      <td>17.50</td>\n",
       "      <td>Low Fat</td>\n",
       "      <td>0.016760</td>\n",
       "      <td>Meat</td>\n",
       "      <td>141.6180</td>\n",
       "      <td>OUT049</td>\n",
       "      <td>1999</td>\n",
       "      <td>Medium</td>\n",
       "      <td>Tier 1</td>\n",
       "      <td>Supermarket Type1</td>\n",
       "      <td>2097.2700</td>\n",
       "    </tr>\n",
       "    <tr>\n",
       "      <th>3</th>\n",
       "      <td>FDX07</td>\n",
       "      <td>19.20</td>\n",
       "      <td>Regular</td>\n",
       "      <td>0.000000</td>\n",
       "      <td>Fruits and Vegetables</td>\n",
       "      <td>182.0950</td>\n",
       "      <td>OUT010</td>\n",
       "      <td>1998</td>\n",
       "      <td>NaN</td>\n",
       "      <td>Tier 3</td>\n",
       "      <td>Grocery Store</td>\n",
       "      <td>732.3800</td>\n",
       "    </tr>\n",
       "    <tr>\n",
       "      <th>4</th>\n",
       "      <td>NCD19</td>\n",
       "      <td>8.93</td>\n",
       "      <td>Low Fat</td>\n",
       "      <td>0.000000</td>\n",
       "      <td>Household</td>\n",
       "      <td>53.8614</td>\n",
       "      <td>OUT013</td>\n",
       "      <td>1987</td>\n",
       "      <td>High</td>\n",
       "      <td>Tier 3</td>\n",
       "      <td>Supermarket Type1</td>\n",
       "      <td>994.7052</td>\n",
       "    </tr>\n",
       "  </tbody>\n",
       "</table>\n",
       "</div>"
      ],
      "text/plain": [
       "  Item_Identifier  Item_Weight Item_Fat_Content  Item_Visibility  \\\n",
       "0           FDA15         9.30          Low Fat         0.016047   \n",
       "1           DRC01         5.92          Regular         0.019278   \n",
       "2           FDN15        17.50          Low Fat         0.016760   \n",
       "3           FDX07        19.20          Regular         0.000000   \n",
       "4           NCD19         8.93          Low Fat         0.000000   \n",
       "\n",
       "               Item_Type  Item_MRP Outlet_Identifier  \\\n",
       "0                  Dairy  249.8092            OUT049   \n",
       "1            Soft Drinks   48.2692            OUT018   \n",
       "2                   Meat  141.6180            OUT049   \n",
       "3  Fruits and Vegetables  182.0950            OUT010   \n",
       "4              Household   53.8614            OUT013   \n",
       "\n",
       "   Outlet_Establishment_Year Outlet_Size Outlet_Location_Type  \\\n",
       "0                       1999      Medium               Tier 1   \n",
       "1                       2009      Medium               Tier 3   \n",
       "2                       1999      Medium               Tier 1   \n",
       "3                       1998         NaN               Tier 3   \n",
       "4                       1987        High               Tier 3   \n",
       "\n",
       "         Outlet_Type  Item_Outlet_Sales  \n",
       "0  Supermarket Type1          3735.1380  \n",
       "1  Supermarket Type2           443.4228  \n",
       "2  Supermarket Type1          2097.2700  \n",
       "3      Grocery Store           732.3800  \n",
       "4  Supermarket Type1           994.7052  "
      ]
     },
     "execution_count": 3,
     "metadata": {},
     "output_type": "execute_result"
    }
   ],
   "source": [
    "TrainData.head()"
   ]
  },
  {
   "cell_type": "code",
   "execution_count": 4,
   "metadata": {
    "collapsed": true
   },
   "outputs": [],
   "source": [
    "fig = plt.figure(figsize=(14,10))\n",
    "sns.distplot(TrainData['Item_Outlet_Sales'].values, bins= 60, kde=False)\n",
    "plt.xlabel('Item_Outlet_Sales', fontsize=12)\n",
    "fig.savefig('%s/fig/Item_Outlet_Sales.png' % InputDir)"
   ]
  },
  {
   "cell_type": "code",
   "execution_count": 5,
   "metadata": {
    "collapsed": false
   },
   "outputs": [
    {
     "data": {
      "text/plain": [
       "0    8.225540\n",
       "1    6.094524\n",
       "2    7.648392\n",
       "3    6.596300\n",
       "4    6.902446\n",
       "Name: Log_Item_Outlet_Sales, dtype: float64"
      ]
     },
     "execution_count": 5,
     "metadata": {},
     "output_type": "execute_result"
    }
   ],
   "source": [
    "## logarithmic target\n",
    "TrainData['Log_Item_Outlet_Sales'] = np.log(TrainData['Item_Outlet_Sales'])\n",
    "TrainData['Log_Item_Outlet_Sales'].head()"
   ]
  },
  {
   "cell_type": "code",
   "execution_count": 6,
   "metadata": {
    "collapsed": true
   },
   "outputs": [],
   "source": [
    "fig = plt.figure(figsize=(14,10))\n",
    "sns.distplot(TrainData['Log_Item_Outlet_Sales'].values, bins= 60, kde=False)\n",
    "plt.xlabel('Item_Outlet_Sales', fontsize=12)\n",
    "fig.savefig('%s/fig/Log_Item_Outlet_Sales.png' % InputDir)"
   ]
  },
  {
   "cell_type": "code",
   "execution_count": 10,
   "metadata": {
    "collapsed": false
   },
   "outputs": [
    {
     "name": "stdout",
     "output_type": "stream",
     "text": [
      "{}\n"
     ]
    }
   ],
   "source": [
    "print('===== Summary of new values for categorial feature in test data ====')\n",
    "\n",
    "CateCols = ['Item_Identifier', 'Item_Fat_Content', 'Item_Type', 'Outlet_Identifier', 'Outlet_Establishment_Year',\n",
    "           'Outlet_Size', 'Outlet_Location_Type', 'Outlet_Type']\n",
    "TrainCateValues = {}\n",
    "for col in CateCols:\n",
    "    TrainCateValues[col] = TrainData[col].value_counts()\n",
    "    \n",
    "NewFieldValues = {}\n",
    "for col in CateCols:\n",
    "    TmpValues = TestData[col].value_counts()\n",
    "    NewTmpValues = {}\n",
    "    for FieldName in TmpValues.index.values:\n",
    "        if(FieldName not in TrainCateValues[col].index.values):\n",
    "            NewTmpValues[FieldName] = (TmpValues[FieldName] * 1.0)/np.sum(TmpValues)\n",
    "    if(len(NewTmpValues) > 0):\n",
    "        NewFieldValues[col] = NewTmpValues\n",
    "print(NewFieldValues)  ## there is no new field value occured in test data"
   ]
  },
  {
   "cell_type": "code",
   "execution_count": 23,
   "metadata": {
    "collapsed": false
   },
   "outputs": [
    {
     "name": "stdout",
     "output_type": "stream",
     "text": [
      "==== Summary of null size(train) ==== \n",
      "\n",
      "---- for Categorial features ----\n",
      "null size for Outlet_Size : 2410, ratio 0.28\n",
      "\n",
      "---- for Numeric features ----\n",
      "null size for Item_Weight : 1463, ratio 0.17\n",
      "\n",
      "==== Summary of null size(test) ==== \n",
      "\n",
      "---- for Categorial features ----\n",
      "null size for Outlet_Size : 1606, ratio 0.28\n",
      "\n",
      "---- for Numeric features ----\n",
      "null size for Item_Weight : 976, ratio 0.17\n"
     ]
    }
   ],
   "source": [
    "print('==== Summary of null size(train) ==== ')\n",
    "print('\\n---- for Categorial features ----')\n",
    "for col in CateCols:\n",
    "    NullValueCounts = TrainData[col].isnull().value_counts()\n",
    "    if(True in NullValueCounts.index.values):\n",
    "        print('null size for %s : %s, ratio %.2f' % (col, NullValueCounts[True], (NullValueCounts[True] * 1.0)/ np.sum(NullValueCounts)))\n",
    "NumericCols = ['Item_Weight', 'Item_Visibility', 'Item_MRP']\n",
    "print('\\n---- for Numeric features ----')\n",
    "for col in NumericCols:\n",
    "    NullValueCounts = TrainData[col].isnull().value_counts()\n",
    "    if(True in NullValueCounts.index.values):\n",
    "        print('null size for %s : %s, ratio %.2f' % (col, NullValueCounts[True], (NullValueCounts[True] * 1.0)/ np.sum(NullValueCounts)))\n",
    "        \n",
    "print('\\n==== Summary of null size(test) ==== ')\n",
    "print('\\n---- for Categorial features ----')\n",
    "for col in CateCols:\n",
    "    NullValueCounts = TestData[col].isnull().value_counts()\n",
    "    if(True in NullValueCounts.index.values):\n",
    "        print('null size for %s : %s, ratio %.2f' % (col, NullValueCounts[True], (NullValueCounts[True] * 1.0)/ np.sum(NullValueCounts)))\n",
    "NumericCols = ['Item_Weight', 'Item_Visibility', 'Item_MRP']\n",
    "print('\\n---- for Numeric features ----')\n",
    "for col in NumericCols:\n",
    "    NullValueCounts = TestData[col].isnull().value_counts()\n",
    "    if(True in NullValueCounts.index.values):\n",
    "        print('null size for %s : %s, ratio %.2f' % (col, NullValueCounts[True], (NullValueCounts[True] * 1.0)/ np.sum(NullValueCounts)))\n",
    "        "
   ]
  },
  {
   "cell_type": "code",
   "execution_count": 11,
   "metadata": {
    "collapsed": true
   },
   "outputs": [],
   "source": []
  },
  {
   "cell_type": "code",
   "execution_count": null,
   "metadata": {
    "collapsed": true
   },
   "outputs": [],
   "source": []
  }
 ],
 "metadata": {
  "anaconda-cloud": {},
  "kernelspec": {
   "display_name": "Python [Root]",
   "language": "python",
   "name": "Python [Root]"
  },
  "language_info": {
   "codemirror_mode": {
    "name": "ipython",
    "version": 3
   },
   "file_extension": ".py",
   "mimetype": "text/x-python",
   "name": "python",
   "nbconvert_exporter": "python",
   "pygments_lexer": "ipython3",
   "version": "3.5.1"
  }
 },
 "nbformat": 4,
 "nbformat_minor": 0
}
